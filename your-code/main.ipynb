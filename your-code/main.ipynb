{
 "cells": [
  {
   "cell_type": "markdown",
   "metadata": {},
   "source": [
    "# Lab | Basic Probability - Challenges\n",
    "\n",
    "## Challenge 1\n",
    "\n",
    "A and B are events of a probability space with $(\\omega, \\sigma, P)$ such that $P(A) = 0.3$, $P(B) = 0.6$ and $P(A \\cap B) = 0.1$\n",
    "\n",
    "Which of the following statements are false?\n",
    "* $P(A \\cup B) = 0.6$\n",
    "* $P(A \\cap B^{C}) = 0.2$\n",
    "* $P(A \\cap (B \\cup B^{C})) = 0.4$\n",
    "* $P(A^{C} \\cap B^{C}) = 0.3$\n",
    "* $P((A \\cap B)^{C}) = 0.9$"
   ]
  },
  {
   "cell_type": "markdown",
   "metadata": {},
   "source": [
    "# Your code here\n",
    "True statements are: \n",
    "* $P(A \\cap B^{C}) = 0.2$\n",
    "* $P((A \\cap B)^{C}) = 0.9$"
   ]
  },
  {
   "cell_type": "markdown",
   "metadata": {},
   "source": [
    "## Challenge 2\n",
    "There is a box with 10 white balls, 12 red balls and 8 black balls. Calculate the probability of:\n",
    "* Taking a white ball out.\n",
    "* Taking a white ball out after taking a black ball out.\n",
    "* Taking a red ball out after taking a black and a red ball out.\n",
    "* Taking a red ball out after taking a black and a red ball out with reposition.\n",
    "\n",
    "**Hint**: Reposition means putting back the ball into the box after taking it out."
   ]
  },
  {
   "cell_type": "code",
   "execution_count": 7,
   "metadata": {},
   "outputs": [
    {
     "name": "stdout",
     "output_type": "stream",
     "text": [
      "The probability of taking a white ball out:  0.3333333333333333\n",
      "The probability of taking  out a white ball after a black :  0.3448275862068966\n",
      "The probability of taking a red ball out after a black and a red:  0.39285714285714285\n",
      "The probability of taking a red ball out after a black and a red with reposition:  0.4\n"
     ]
    }
   ],
   "source": [
    "# Your code here\n",
    "white = 10\n",
    "red = 12\n",
    "black = 8\n",
    "total = white + red + black\n",
    "\n",
    "experiment1 = white/total\n",
    "print(\"The probability of taking a white ball out: \", experiment1)\n",
    "\n",
    "experiment2 = white/(total - 1)\n",
    "print(\"The probability of taking  out a white ball after a black : \",experiment2) \n",
    "\n",
    "experiment3 = (red-1) / (total - 2)\n",
    "print(\"The probability of taking a red ball out after a black and a red: \",experiment3)\n",
    "\n",
    "experiment4 = red/total\n",
    "print(\"The probability of taking a red ball out after a black and a red with reposition: \",experiment4)"
   ]
  },
  {
   "cell_type": "markdown",
   "metadata": {},
   "source": [
    "## Challenge 3\n",
    "\n",
    "You are planning to go on a picnic today but the morning is cloudy. You hate rain so you don't know whether to go out or stay home! To help you make a decision, you gather the following data about rainy days:\n",
    "\n",
    "* 50% of all rainy days start off cloudy!\n",
    "* Cloudy mornings are common. About 40% of days start cloudy. \n",
    "* This month is usually dry so only 3 of 30 days (10%) tend to be rainy. \n",
    "\n",
    "What is the chance of rain during the day?"
   ]
  },
  {
   "cell_type": "code",
   "execution_count": 10,
   "metadata": {},
   "outputs": [
    {
     "name": "stdout",
     "output_type": "stream",
     "text": [
      "The probability of rain today:  0.125\n"
     ]
    }
   ],
   "source": [
    "# Your code here\n",
    "p_cloudly_rain = 0.5\n",
    "p_rain = 0.1\n",
    "p_cloudly = 0.4\n",
    "p_rain_today = p_cloudly_rain * p_rain / p_cloudly\n",
    "print(\"The probability of rain today: \", p_rain_today)"
   ]
  },
  {
   "cell_type": "markdown",
   "metadata": {},
   "source": [
    "## Challenge 4\n",
    "\n",
    "\n",
    " * If someone flies to China, the probability of getting Covid is 1%  \n",
    " * If someone flies to Italy, the probability of getting Covid is 20%  \n",
    "\n",
    "I roll 1 dice with numbers 1, 2, 3, 4, 5, 6:  \n",
    " * If 1: I fly to Italy\n",
    " * If not 1: I fly to China\n",
    "\n",
    "During my trip, I got Covid. What is the probability that I flew to China?"
   ]
  },
  {
   "cell_type": "code",
   "execution_count": 12,
   "metadata": {},
   "outputs": [
    {
     "name": "stdout",
     "output_type": "stream",
     "text": [
      "The probability of having covid:  0.041666666666666664\n",
      "The probability of it was china:  0.2\n"
     ]
    }
   ],
   "source": [
    "# Your code here\n",
    "p_china_covid = 0.01\n",
    "p_china = 5 / 6\n",
    "p_italy_covid = 0.2\n",
    "p_italy = 1 / 6\n",
    "\n",
    "p_covid = p_china_covid * p_china + p_italy_covid * p_italy\n",
    "print(\"The probability of having covid: \", p_covid)\n",
    "\n",
    "P_it_was_china = (p_china_covid * p_china) / p_covid\n",
    "print(\"The probability of it was china: \", P_it_was_china)"
   ]
  },
  {
   "cell_type": "markdown",
   "metadata": {},
   "source": [
    "## BONUS\n",
    "\n",
    "You roll 2 dice. What is the probability that the sum of the numbers is 7? And 8? And 9? Then simulate 10000 times and draw a countplot."
   ]
  },
  {
   "cell_type": "markdown",
   "metadata": {},
   "source": [
    "your explanation here"
   ]
  },
  {
   "cell_type": "code",
   "execution_count": 8,
   "metadata": {},
   "outputs": [
    {
     "name": "stdout",
     "output_type": "stream",
     "text": [
      "The probability of taking a 7 out:  0.16666666666666666\n",
      "The probability of taking a 8 out:  0.1388888888888889\n",
      "The probability of taking a 9 out:  0.1111111111111111\n"
     ]
    }
   ],
   "source": [
    "# Your code here\n",
    "n = 6\n",
    "p = n * n\n",
    "o7 = 6\n",
    "\n",
    "o8 = 5\n",
    "\n",
    "o9 = 4\n",
    "\n",
    "probability7 =  o7 / p\n",
    "probability8 = o8 / p\n",
    "probability9 = o9 / p\n",
    "\n",
    "\n",
    "print(\"The probability of taking a 7 out: \", probability7) \n",
    "print(\"The probability of taking a 8 out: \", probability8)\n",
    "print(\"The probability of taking a 9 out: \", probability9)\n"
   ]
  },
  {
   "cell_type": "code",
   "execution_count": 9,
   "metadata": {},
   "outputs": [
    {
     "name": "stderr",
     "output_type": "stream",
     "text": [
      "/var/folders/hg/7_xt468j3nz1xqspwcc6s8jw0000gn/T/ipykernel_39735/3036753059.py:10: FutureWarning: \n",
      "\n",
      "Passing `palette` without assigning `hue` is deprecated and will be removed in v0.14.0. Assign the `x` variable to `hue` and set `legend=False` for the same effect.\n",
      "\n",
      "  sns.countplot(x=results, order=range(2, 13), palette=\"viridis\")\n"
     ]
    },
    {
     "data": {
      "image/png": "[encoded data removed]",
      "text/plain": [
       "<Figure size 640x480 with 1 Axes>"
      ]
     },
     "metadata": {},
     "output_type": "display_data"
    }
   ],
   "source": [
    "import random\n",
    "from collections import Counter\n",
    "import seaborn as sns\n",
    "import matplotlib.pyplot as plt\n",
    "\n",
    "# Симуляция\n",
    "results = [random.randint(1, 6) + random.randint(1, 6) for _ in range(10000)]\n",
    "\n",
    "# Построение countplot\n",
    "sns.countplot(x=results, order=range(2, 13), palette=\"viridis\")\n",
    "plt.title(\"Sum of Two Dice Rolls\")\n",
    "plt.xlabel(\"Sum\")\n",
    "plt.ylabel(\"Frequency\")\n",
    "plt.show()"
   ]
  },
  {
   "cell_type": "markdown",
   "metadata": {},
   "source": [
    "## Bonus \n",
    "\n",
    "One thousand people were asked through a telephone survey whether they thought more street lighting is needed at night or not.\n",
    "\n",
    "Out of the 480 men that answered the survey, 324 said yes and 156 said no. On the other hand, out of the 520 women that answered, 351 said yes and 169 said no. \n",
    "\n",
    "We wonder if men and women have a different opinions about the street lighting matter. Is gender relevant or irrelevant to the question?\n",
    "\n",
    "Consider the following events:\n",
    "- The answer is yes, so the person that answered thinks that more street lighting is needed.\n",
    "- The person who answered is a man.\n",
    "\n",
    "We want to know if these events are independent, that is, if the fact of wanting more light depends on whether one is male or female. Are these events independent or not?\n",
    "\n",
    "**Hint**: To clearly compare the answers by gender, it is best to place the data in a table."
   ]
  },
  {
   "cell_type": "markdown",
   "metadata": {},
   "source": [
    "| Gender  | Yes  | No |  |\n",
    "|---|---|---|---|\n",
    "| Men  | 0.324  | 0.156 | 0.48 |\n",
    "| Women  | 0.351  | 0.169 | 0.52 |\n",
    "|   | 0.675  | 0.325 |"
   ]
  },
  {
   "cell_type": "code",
   "execution_count": 13,
   "metadata": {},
   "outputs": [
    {
     "name": "stdout",
     "output_type": "stream",
     "text": [
      "P(Yes) = 0.675\n",
      "P(Man) = 0.48\n",
      "P(Yes ∩ Man) = 0.324\n",
      "The events 'Yes' and 'Man' are independent.\n"
     ]
    }
   ],
   "source": [
    "# Your code here\n",
    "# Input data\n",
    "total = 1000          # Total number of respondents\n",
    "men = 480             # Number of men\n",
    "women = 520           # Number of women\n",
    "\n",
    "yes_men = 324         # Number of men who answered \"yes\"\n",
    "no_men = 156          # Number of men who answered \"no\"\n",
    "yes_women = 351       # Number of women who answered \"yes\"\n",
    "no_women = 169        # Number of women who answered \"no\"\n",
    "\n",
    "# Calculate marginal probabilities\n",
    "\n",
    "# Probability that a randomly selected person answers \"yes\"\n",
    "p_yes = (yes_men + yes_women) / total\n",
    "\n",
    "# Probability that a randomly selected person is a man\n",
    "p_man = men / total\n",
    "\n",
    "# Joint probability that a person is a man and answers \"yes\"\n",
    "p_yes_man = yes_men / total\n",
    "\n",
    "print(\"P(Yes) =\", p_yes)\n",
    "print(\"P(Man) =\", p_man)\n",
    "print(\"P(Yes ∩ Man) =\", p_yes_man)\n",
    "\n",
    "# Check for independence by comparing P(Yes ∩ Man) with P(Yes) * P(Man)\n",
    "if abs(p_yes_man - (p_yes * p_man)) < 1e-6:\n",
    "    print(\"The events 'Yes' and 'Man' are independent.\")\n",
    "else:\n",
    "    print(\"The events 'Yes' and 'Man' are dependent.\")\n"
   ]
  }
 ],
 "metadata": {
  "kernelspec": {
   "display_name": "Python 3",
   "language": "python",
   "name": "python3"
  },
  "language_info": {
   "codemirror_mode": {
    "name": "ipython",
    "version": 3
   },
   "file_extension": ".py",
   "mimetype": "text/x-python",
   "name": "python",
   "nbconvert_exporter": "python",
   "pygments_lexer": "ipython3",
   "version": "3.9.6"
  }
 },
 "nbformat": 4,
 "nbformat_minor": 2
}
